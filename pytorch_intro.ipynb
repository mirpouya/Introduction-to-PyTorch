{
  "nbformat": 4,
  "nbformat_minor": 0,
  "metadata": {
    "colab": {
      "provenance": [],
      "authorship_tag": "ABX9TyOZ6Svq55Ru1R9FaaTUcQdX",
      "include_colab_link": true
    },
    "kernelspec": {
      "name": "python3",
      "display_name": "Python 3"
    },
    "language_info": {
      "name": "python"
    }
  },
  "cells": [
    {
      "cell_type": "markdown",
      "metadata": {
        "id": "view-in-github",
        "colab_type": "text"
      },
      "source": [
        "<a href=\"https://colab.research.google.com/github/mirpouya/Introduction-to-PyTorch/blob/main/pytorch_intro.ipynb\" target=\"_parent\"><img src=\"https://colab.research.google.com/assets/colab-badge.svg\" alt=\"Open In Colab\"/></a>"
      ]
    },
    {
      "cell_type": "code",
      "execution_count": 37,
      "metadata": {
        "id": "wxbSX2Hx6bd2"
      },
      "outputs": [],
      "source": [
        "import torch"
      ]
    },
    {
      "cell_type": "markdown",
      "source": [
        "**<h2> Tensors </h2>**"
      ],
      "metadata": {
        "id": "WQwc-3F3EyqR"
      }
    },
    {
      "cell_type": "code",
      "source": [
        "# making an empty tensor\n",
        "\n",
        "x = torch.empty(3)\n",
        "x\n",
        "\n",
        "# values are not initialized"
      ],
      "metadata": {
        "colab": {
          "base_uri": "https://localhost:8080/"
        },
        "id": "wtHoaGUiEYOV",
        "outputId": "94981606-4b5e-44f8-cb3b-98366db1d283"
      },
      "execution_count": 38,
      "outputs": [
        {
          "output_type": "execute_result",
          "data": {
            "text/plain": [
              "tensor([-7.3062e+27,  4.5811e-41,  9.6350e-35])"
            ]
          },
          "metadata": {},
          "execution_count": 38
        }
      ]
    },
    {
      "cell_type": "code",
      "source": [
        "x = torch.empty(2,3)"
      ],
      "metadata": {
        "id": "8wyaAZX5FPk3"
      },
      "execution_count": 39,
      "outputs": []
    },
    {
      "cell_type": "code",
      "source": [
        "x"
      ],
      "metadata": {
        "colab": {
          "base_uri": "https://localhost:8080/"
        },
        "id": "WXrtkRwTFhre",
        "outputId": "e4376a47-f069-4eeb-b9ab-182e695717f1"
      },
      "execution_count": 40,
      "outputs": [
        {
          "output_type": "execute_result",
          "data": {
            "text/plain": [
              "tensor([[9.4303e-35, 0.0000e+00, 8.1261e-35],\n",
              "        [0.0000e+00, 9.3736e-35, 0.0000e+00]])"
            ]
          },
          "metadata": {},
          "execution_count": 40
        }
      ]
    },
    {
      "cell_type": "code",
      "source": [
        "# tensors with random values\n",
        "\n",
        "x = torch.rand(2,4)\n",
        "x"
      ],
      "metadata": {
        "colab": {
          "base_uri": "https://localhost:8080/"
        },
        "id": "M8pWd28DFx8P",
        "outputId": "87a11748-5174-4f7c-d6ca-5bca4cb05b8a"
      },
      "execution_count": 41,
      "outputs": [
        {
          "output_type": "execute_result",
          "data": {
            "text/plain": [
              "tensor([[0.0846, 0.1459, 0.3368, 0.5671],\n",
              "        [0.0363, 0.0838, 0.1082, 0.2956]])"
            ]
          },
          "metadata": {},
          "execution_count": 41
        }
      ]
    },
    {
      "cell_type": "code",
      "source": [
        "x = torch.ones(2,3,4)\n",
        "x"
      ],
      "metadata": {
        "colab": {
          "base_uri": "https://localhost:8080/"
        },
        "id": "xdjsJDWsGBeC",
        "outputId": "8be33b07-c456-4bf9-dc7f-27ac15062f7d"
      },
      "execution_count": 42,
      "outputs": [
        {
          "output_type": "execute_result",
          "data": {
            "text/plain": [
              "tensor([[[1., 1., 1., 1.],\n",
              "         [1., 1., 1., 1.],\n",
              "         [1., 1., 1., 1.]],\n",
              "\n",
              "        [[1., 1., 1., 1.],\n",
              "         [1., 1., 1., 1.],\n",
              "         [1., 1., 1., 1.]]])"
            ]
          },
          "metadata": {},
          "execution_count": 42
        }
      ]
    },
    {
      "cell_type": "code",
      "source": [
        "# shape of a tensor\n",
        "\n",
        "x.size()"
      ],
      "metadata": {
        "colab": {
          "base_uri": "https://localhost:8080/"
        },
        "id": "tZ4O2HNjGZSt",
        "outputId": "21a4ba2d-2238-4da4-824c-87373d0fec26"
      },
      "execution_count": 43,
      "outputs": [
        {
          "output_type": "execute_result",
          "data": {
            "text/plain": [
              "torch.Size([2, 3, 4])"
            ]
          },
          "metadata": {},
          "execution_count": 43
        }
      ]
    },
    {
      "cell_type": "code",
      "source": [
        "x1 = torch.rand(2,3)\n",
        "print(f\"x1 : {x1}\")\n",
        "\n",
        "x2 = torch.ones(2,3)\n",
        "print(f\"x2 : {x2}\")\n",
        "\n",
        "# adding x2 to x1\n",
        "\n",
        "x1.add_(x2)\n",
        "print(f\"x1 : {x1}\")"
      ],
      "metadata": {
        "colab": {
          "base_uri": "https://localhost:8080/"
        },
        "id": "Bu1skznjGdZR",
        "outputId": "5d625b5f-c516-4518-bf3f-99f85ad1e5c3"
      },
      "execution_count": 44,
      "outputs": [
        {
          "output_type": "stream",
          "name": "stdout",
          "text": [
            "x1 : tensor([[0.7914, 0.1670, 0.4790],\n",
            "        [0.7533, 0.5444, 0.4997]])\n",
            "x2 : tensor([[1., 1., 1.],\n",
            "        [1., 1., 1.]])\n",
            "x1 : tensor([[1.7914, 1.1670, 1.4790],\n",
            "        [1.7533, 1.5444, 1.4997]])\n"
          ]
        }
      ]
    },
    {
      "cell_type": "code",
      "source": [
        "# in pyorch every function that has underline \"_\" at the end, does an inplace opperation\n",
        "# these three are the same\n",
        "\n",
        "x = torch.ones(3)\n",
        "y = torch.rand(3)\n",
        "z = torch.sub(x,y)\n",
        "\n",
        "\n",
        "print(f\"x - y : {x - y}\\n\")\n",
        "print(f\"z : {z}\\n\")\n",
        "\n",
        "x.sub_(y)\n",
        "print(f\"x.sub_(y) : {x}\\n\")"
      ],
      "metadata": {
        "colab": {
          "base_uri": "https://localhost:8080/"
        },
        "id": "cxb3yhzVGyaK",
        "outputId": "7c028893-43be-46b4-f9c7-67c2bfd6451f"
      },
      "execution_count": 45,
      "outputs": [
        {
          "output_type": "stream",
          "name": "stdout",
          "text": [
            "x - y : tensor([0.1611, 0.8276, 0.4206])\n",
            "\n",
            "z : tensor([0.1611, 0.8276, 0.4206])\n",
            "\n",
            "x.sub_(y) : tensor([0.1611, 0.8276, 0.4206])\n",
            "\n"
          ]
        }
      ]
    },
    {
      "cell_type": "code",
      "source": [
        "# reshaping tensor\n",
        "\n",
        "x = torch.rand(3,4)\n",
        "\n",
        "print(f\"x is : {x}\\n\")\n",
        "print(f\"shape of x is : {x.size()}\\n\")\n",
        "\n",
        "x2 = x.view(2,6)\n",
        "\n",
        "print(f\"x2 is : {x2}\\n\")\n",
        "print(f\"shape of x2 is : {x2.size()}\\n\")"
      ],
      "metadata": {
        "colab": {
          "base_uri": "https://localhost:8080/"
        },
        "id": "ofVH9FwjH1_x",
        "outputId": "79089641-649a-4013-d754-0c39421f4af3"
      },
      "execution_count": 46,
      "outputs": [
        {
          "output_type": "stream",
          "name": "stdout",
          "text": [
            "x is : tensor([[0.4677, 0.6345, 0.9472, 0.8734],\n",
            "        [0.7569, 0.1102, 0.5118, 0.5371],\n",
            "        [0.1469, 0.4628, 0.4660, 0.6707]])\n",
            "\n",
            "shape of x is : torch.Size([3, 4])\n",
            "\n",
            "x2 is : tensor([[0.4677, 0.6345, 0.9472, 0.8734, 0.7569, 0.1102],\n",
            "        [0.5118, 0.5371, 0.1469, 0.4628, 0.4660, 0.6707]])\n",
            "\n",
            "shape of x2 is : torch.Size([2, 6])\n",
            "\n"
          ]
        }
      ]
    },
    {
      "cell_type": "code",
      "source": [
        "# consider we want to reshape a tensor, and we want to pass one of the new dimensions\n",
        "# so pytorch calculate other dimensions with respect to what we passed\n",
        "\n",
        "x = torch.rand(4,6)\n",
        "print(f\"x is : {x}\\n\")\n",
        "print(f\"shape of x is : {x.size()}\\n\")\n",
        "\n",
        "x2 = x.view(-1,2,4)\n",
        "print(f\"x is : {x2}\\n\")\n",
        "print(f\"shape of x2 is : {x2.size()}\\n\")"
      ],
      "metadata": {
        "colab": {
          "base_uri": "https://localhost:8080/"
        },
        "id": "W24t1mbSIwvM",
        "outputId": "3803c684-9aff-477d-df8e-178c33b10e2e"
      },
      "execution_count": 47,
      "outputs": [
        {
          "output_type": "stream",
          "name": "stdout",
          "text": [
            "x is : tensor([[0.7259, 0.7557, 0.3750, 0.9357, 0.3231, 0.3574],\n",
            "        [0.3264, 0.3082, 0.2572, 0.6789, 0.8526, 0.7113],\n",
            "        [0.2149, 0.1412, 0.2688, 0.7348, 0.6197, 0.5672],\n",
            "        [0.3031, 0.4368, 0.5233, 0.1664, 0.7465, 0.2701]])\n",
            "\n",
            "shape of x is : torch.Size([4, 6])\n",
            "\n",
            "x is : tensor([[[0.7259, 0.7557, 0.3750, 0.9357],\n",
            "         [0.3231, 0.3574, 0.3264, 0.3082]],\n",
            "\n",
            "        [[0.2572, 0.6789, 0.8526, 0.7113],\n",
            "         [0.2149, 0.1412, 0.2688, 0.7348]],\n",
            "\n",
            "        [[0.6197, 0.5672, 0.3031, 0.4368],\n",
            "         [0.5233, 0.1664, 0.7465, 0.2701]]])\n",
            "\n",
            "shape of x2 is : torch.Size([3, 2, 4])\n",
            "\n"
          ]
        }
      ]
    },
    {
      "cell_type": "code",
      "source": [
        "# numpy\n",
        "\n",
        "import numpy as np"
      ],
      "metadata": {
        "id": "hp6Rxjh6JloW"
      },
      "execution_count": 48,
      "outputs": []
    },
    {
      "cell_type": "code",
      "source": [
        "# sometimes you need to change numpy arrays to tensors\n",
        "\n",
        "np_arr = np.random.randn(2,4)\n",
        "print(f\" np_arr : {np_arr}\\n type: {type(np_arr)}\\n\")\n",
        "\n",
        "tensor_arr = torch.from_numpy(np_arr)\n",
        "print(f\" tensor_arr : {tensor_arr}\\n type: {type(tensor_arr)}\")"
      ],
      "metadata": {
        "colab": {
          "base_uri": "https://localhost:8080/"
        },
        "id": "VsUiqXf9J9bA",
        "outputId": "d0bad259-31da-4c67-946d-d7aac00962ce"
      },
      "execution_count": 49,
      "outputs": [
        {
          "output_type": "stream",
          "name": "stdout",
          "text": [
            " np_arr : [[ 2.4345086   1.02461036 -1.9507967   0.95667447]\n",
            " [-0.05011382  0.76821913 -0.66882421 -1.16434976]]\n",
            " type: <class 'numpy.ndarray'>\n",
            "\n",
            " tensor_arr : tensor([[ 2.4345,  1.0246, -1.9508,  0.9567],\n",
            "        [-0.0501,  0.7682, -0.6688, -1.1643]], dtype=torch.float64)\n",
            " type: <class 'torch.Tensor'>\n"
          ]
        }
      ]
    },
    {
      "cell_type": "code",
      "source": [
        "# most of the time we train our model on GPU \n",
        "# to check if the option of training the model is available we can\n",
        "\n",
        "if torch.cuda.is_available():\n",
        "  # specify cuda device\n",
        "  device = torch.device(\"cuda\")\n",
        "\n",
        "  # for creating a tensor on the GPU\n",
        "  x = torch.ones((2,4), device=device)\n",
        "\n",
        "  # or first create it and then move it to device\n",
        "  y = torch.ones(2,4)\n",
        "  y = y.to(device)\n",
        "\n",
        "  # if any operation needs x and y it will be fulfilled on the device (GPU)\n",
        "  z = x+y\n",
        "\n",
        "  # remember, numpy can only handle CPU tensors "
      ],
      "metadata": {
        "id": "-CKjR6AIL78_"
      },
      "execution_count": 50,
      "outputs": []
    },
    {
      "cell_type": "markdown",
      "source": [
        "**<h2> Autograd </h2>**"
      ],
      "metadata": {
        "id": "rHSp6B2pO8Mk"
      }
    },
    {
      "cell_type": "markdown",
      "source": [
        "It is used to calculate gradients"
      ],
      "metadata": {
        "id": "rQj-NB7OXeMD"
      }
    },
    {
      "cell_type": "code",
      "source": [
        "x = torch.randn(3, requires_grad=True)\n",
        "x"
      ],
      "metadata": {
        "colab": {
          "base_uri": "https://localhost:8080/"
        },
        "id": "k_dCb0gXNbGu",
        "outputId": "f6dec58b-6bfc-4e53-b22b-186be7d94b4e"
      },
      "execution_count": 51,
      "outputs": [
        {
          "output_type": "execute_result",
          "data": {
            "text/plain": [
              "tensor([ 0.5098,  0.8704, -0.8142], requires_grad=True)"
            ]
          },
          "metadata": {},
          "execution_count": 51
        }
      ]
    },
    {
      "cell_type": "code",
      "source": [
        "# we want to calculate gradients of a function with respect to x\n",
        "# therefore we must set the argument \"requires_grad\" to True\n",
        "print(f\"x : {x}\\n\")\n",
        "\n",
        "y = 2*x + 3\n",
        "print(f\"y : {y}\\n\")\n",
        "\n",
        "z = 2*(y**2)\n",
        "print(f\"z : {z}\\n\")\n",
        "\n",
        "# z = z.mean()\n",
        "#print(f\"z.mean() : {z}\\n\")"
      ],
      "metadata": {
        "colab": {
          "base_uri": "https://localhost:8080/"
        },
        "id": "UbR5b3LjXpJQ",
        "outputId": "9bffa21f-e292-4fd2-90de-cd6e590c57eb"
      },
      "execution_count": 52,
      "outputs": [
        {
          "output_type": "stream",
          "name": "stdout",
          "text": [
            "x : tensor([ 0.5098,  0.8704, -0.8142], requires_grad=True)\n",
            "\n",
            "y : tensor([4.0196, 4.7408, 1.3716], grad_fn=<AddBackward0>)\n",
            "\n",
            "z : tensor([32.3147, 44.9497,  3.7625], grad_fn=<MulBackward0>)\n",
            "\n"
          ]
        }
      ]
    },
    {
      "cell_type": "code",
      "source": [
        "z.backward(x)  # dz/dx since we specified requires_grad=True only in x\n",
        "\n",
        "# then x has .grad attributes which the gradients with respect to x is stored\n",
        "\n",
        "print(f\"gradients with respect to x : {x.grad}\")"
      ],
      "metadata": {
        "colab": {
          "base_uri": "https://localhost:8080/"
        },
        "id": "ezW6yLc_ZSTY",
        "outputId": "fd14e90f-d179-4f91-e65e-6321cefdeb57"
      },
      "execution_count": 53,
      "outputs": [
        {
          "output_type": "stream",
          "name": "stdout",
          "text": [
            "gradients with respect to x : tensor([16.3939, 33.0102, -8.9340])\n"
          ]
        }
      ]
    },
    {
      "cell_type": "code",
      "source": [
        "# each time gradient values get accumulated in x.grad\n",
        "# so be careful about this\n",
        "\n",
        "# a dummy example\n",
        "weights = torch.ones(4, requires_grad=True)\n",
        "\n",
        "# training loop\n",
        "for epoch in range(1):\n",
        "  model_output = (weights*3).sum()\n",
        "\n",
        "  # calculate gradients\n",
        "  model_output.backward()\n",
        "\n",
        "  print(f\"weights.grad : {weights.grad}\\n\")"
      ],
      "metadata": {
        "colab": {
          "base_uri": "https://localhost:8080/"
        },
        "id": "_BiWXtTddegR",
        "outputId": "31f3a620-7248-4bc7-98e3-4e711ce047c3"
      },
      "execution_count": 55,
      "outputs": [
        {
          "output_type": "stream",
          "name": "stdout",
          "text": [
            "weights.grad : tensor([3., 3., 3., 3.])\n",
            "\n"
          ]
        }
      ]
    },
    {
      "cell_type": "code",
      "source": [
        "# a dummy example , continue\n",
        "weights = torch.ones(4, requires_grad=True)\n",
        "\n",
        "# training loop\n",
        "for epoch in range(2):\n",
        "  model_output = (weights*3).sum()\n",
        "\n",
        "  # calculate gradients\n",
        "  model_output.backward()\n",
        "\n",
        "  print(f\"weights.grad : {weights.grad}\\n\")"
      ],
      "metadata": {
        "colab": {
          "base_uri": "https://localhost:8080/"
        },
        "id": "zzRSjFATfmU6",
        "outputId": "ac86dc5c-914d-4a2a-bec2-3fb22e14b3dd"
      },
      "execution_count": 56,
      "outputs": [
        {
          "output_type": "stream",
          "name": "stdout",
          "text": [
            "weights.grad : tensor([3., 3., 3., 3.])\n",
            "\n",
            "weights.grad : tensor([6., 6., 6., 6.])\n",
            "\n"
          ]
        }
      ]
    },
    {
      "cell_type": "code",
      "source": [],
      "metadata": {
        "id": "hrIdqeCafsfh"
      },
      "execution_count": null,
      "outputs": []
    }
  ]
}