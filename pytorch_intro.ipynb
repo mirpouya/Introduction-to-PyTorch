{
  "nbformat": 4,
  "nbformat_minor": 0,
  "metadata": {
    "colab": {
      "provenance": [],
      "authorship_tag": "ABX9TyPT04GzVU0vvooBZOXP3LwA",
      "include_colab_link": true
    },
    "kernelspec": {
      "name": "python3",
      "display_name": "Python 3"
    },
    "language_info": {
      "name": "python"
    }
  },
  "cells": [
    {
      "cell_type": "markdown",
      "metadata": {
        "id": "view-in-github",
        "colab_type": "text"
      },
      "source": [
        "<a href=\"https://colab.research.google.com/github/mirpouya/Introduction-to-PyTorch/blob/main/pytorch_intro.ipynb\" target=\"_parent\"><img src=\"https://colab.research.google.com/assets/colab-badge.svg\" alt=\"Open In Colab\"/></a>"
      ]
    },
    {
      "cell_type": "code",
      "execution_count": 1,
      "metadata": {
        "id": "wxbSX2Hx6bd2"
      },
      "outputs": [],
      "source": [
        "import torch"
      ]
    },
    {
      "cell_type": "markdown",
      "source": [
        "**<h2> Tensors </h2>**"
      ],
      "metadata": {
        "id": "WQwc-3F3EyqR"
      }
    },
    {
      "cell_type": "code",
      "source": [
        "# making an empty tensor\n",
        "\n",
        "x = torch.empty(3)\n",
        "x\n",
        "\n",
        "# values are not initialized"
      ],
      "metadata": {
        "colab": {
          "base_uri": "https://localhost:8080/"
        },
        "id": "wtHoaGUiEYOV",
        "outputId": "e67610f4-8546-40f5-e992-84cffe0f5ca6"
      },
      "execution_count": 2,
      "outputs": [
        {
          "output_type": "execute_result",
          "data": {
            "text/plain": [
              "tensor([0., 0., 0.])"
            ]
          },
          "metadata": {},
          "execution_count": 2
        }
      ]
    },
    {
      "cell_type": "code",
      "source": [
        "x = torch.empty(2,3)"
      ],
      "metadata": {
        "id": "8wyaAZX5FPk3"
      },
      "execution_count": 3,
      "outputs": []
    },
    {
      "cell_type": "code",
      "source": [
        "x"
      ],
      "metadata": {
        "colab": {
          "base_uri": "https://localhost:8080/"
        },
        "id": "WXrtkRwTFhre",
        "outputId": "0f187214-5b85-49c8-ae5a-571e760c3f38"
      },
      "execution_count": 4,
      "outputs": [
        {
          "output_type": "execute_result",
          "data": {
            "text/plain": [
              "tensor([[0.0000e+00, 6.2121e+22, 1.8788e+31],\n",
              "        [1.7220e+22, 2.1715e-18, 2.6222e-09]])"
            ]
          },
          "metadata": {},
          "execution_count": 4
        }
      ]
    },
    {
      "cell_type": "code",
      "source": [
        "# tensors with random values\n",
        "\n",
        "x = torch.rand(2,4)\n",
        "x"
      ],
      "metadata": {
        "colab": {
          "base_uri": "https://localhost:8080/"
        },
        "id": "M8pWd28DFx8P",
        "outputId": "8bf9a048-2328-4350-e55e-ed6f7a6b85a2"
      },
      "execution_count": 6,
      "outputs": [
        {
          "output_type": "execute_result",
          "data": {
            "text/plain": [
              "tensor([[0.4668, 0.5965, 0.4280, 0.7782],\n",
              "        [0.3246, 0.2997, 0.2306, 0.0424]])"
            ]
          },
          "metadata": {},
          "execution_count": 6
        }
      ]
    },
    {
      "cell_type": "code",
      "source": [
        "x = torch.ones(2,3,4)\n",
        "x"
      ],
      "metadata": {
        "colab": {
          "base_uri": "https://localhost:8080/"
        },
        "id": "xdjsJDWsGBeC",
        "outputId": "119d036b-d186-42f1-e0ce-e464aaa3354f"
      },
      "execution_count": 7,
      "outputs": [
        {
          "output_type": "execute_result",
          "data": {
            "text/plain": [
              "tensor([[[1., 1., 1., 1.],\n",
              "         [1., 1., 1., 1.],\n",
              "         [1., 1., 1., 1.]],\n",
              "\n",
              "        [[1., 1., 1., 1.],\n",
              "         [1., 1., 1., 1.],\n",
              "         [1., 1., 1., 1.]]])"
            ]
          },
          "metadata": {},
          "execution_count": 7
        }
      ]
    },
    {
      "cell_type": "code",
      "source": [
        "# shape of a tensor\n",
        "\n",
        "x.size()"
      ],
      "metadata": {
        "colab": {
          "base_uri": "https://localhost:8080/"
        },
        "id": "tZ4O2HNjGZSt",
        "outputId": "c5d8a075-5866-46de-8d8d-a36ecac5c3bf"
      },
      "execution_count": 8,
      "outputs": [
        {
          "output_type": "execute_result",
          "data": {
            "text/plain": [
              "torch.Size([2, 3, 4])"
            ]
          },
          "metadata": {},
          "execution_count": 8
        }
      ]
    },
    {
      "cell_type": "code",
      "source": [
        "x1 = torch.rand(2,3)\n",
        "print(f\"x1 : {x1}\")\n",
        "\n",
        "x2 = torch.ones(2,3)\n",
        "print(f\"x2 : {x2}\")\n",
        "\n",
        "# adding x2 to x1\n",
        "\n",
        "x1.add_(x2)\n",
        "print(f\"x1 : {x1}\")"
      ],
      "metadata": {
        "colab": {
          "base_uri": "https://localhost:8080/"
        },
        "id": "Bu1skznjGdZR",
        "outputId": "378ad3b6-6a7c-48a4-e3a1-73d03f809b30"
      },
      "execution_count": 11,
      "outputs": [
        {
          "output_type": "stream",
          "name": "stdout",
          "text": [
            "x1 : tensor([[0.1599, 0.0188, 0.7589],\n",
            "        [0.8851, 0.7231, 0.3647]])\n",
            "x2 : tensor([[1., 1., 1.],\n",
            "        [1., 1., 1.]])\n",
            "x1 : tensor([[1.1599, 1.0188, 1.7589],\n",
            "        [1.8851, 1.7231, 1.3647]])\n"
          ]
        }
      ]
    },
    {
      "cell_type": "code",
      "source": [
        "# in pyorch every function that has underline \"_\" at the end, does an inplace opperation\n",
        "# these three are the same\n",
        "\n",
        "x = torch.ones(3)\n",
        "y = torch.rand(3)\n",
        "z = torch.sub(x,y)\n",
        "\n",
        "\n",
        "print(f\"x - y : {x - y}\\n\")\n",
        "print(f\"z : {z}\\n\")\n",
        "\n",
        "x.sub_(y)\n",
        "print(f\"x.sub_(y) : {x}\\n\")"
      ],
      "metadata": {
        "colab": {
          "base_uri": "https://localhost:8080/"
        },
        "id": "cxb3yhzVGyaK",
        "outputId": "818bb41e-46b5-46db-c6cf-4bae01ee4dfc"
      },
      "execution_count": 12,
      "outputs": [
        {
          "output_type": "stream",
          "name": "stdout",
          "text": [
            "x - y : tensor([0.7956, 0.8260, 0.2597])\n",
            "\n",
            "z : tensor([0.7956, 0.8260, 0.2597])\n",
            "\n",
            "x.sub_(y) : tensor([0.7956, 0.8260, 0.2597])\n",
            "\n"
          ]
        }
      ]
    },
    {
      "cell_type": "code",
      "source": [
        "# reshaping tensor\n",
        "\n",
        "x = torch.rand(3,4)\n",
        "\n",
        "print(f\"x is : {x}\\n\")\n",
        "print(f\"shape of x is : {x.size()}\\n\")\n",
        "\n",
        "x2 = x.view(2,6)\n",
        "\n",
        "print(f\"x2 is : {x2}\\n\")\n",
        "print(f\"shape of x2 is : {x2.size()}\\n\")"
      ],
      "metadata": {
        "colab": {
          "base_uri": "https://localhost:8080/"
        },
        "id": "ofVH9FwjH1_x",
        "outputId": "6f0cdd2c-234c-4990-f14f-6b9f179c7e2b"
      },
      "execution_count": 13,
      "outputs": [
        {
          "output_type": "stream",
          "name": "stdout",
          "text": [
            "x is : tensor([[0.7925, 0.0155, 0.2878, 0.1505],\n",
            "        [0.3759, 0.0037, 0.9361, 0.5885],\n",
            "        [0.9568, 0.3740, 0.2912, 0.0719]])\n",
            "\n",
            "shape of x is : torch.Size([3, 4])\n",
            "\n",
            "x2 is : tensor([[0.7925, 0.0155, 0.2878, 0.1505, 0.3759, 0.0037],\n",
            "        [0.9361, 0.5885, 0.9568, 0.3740, 0.2912, 0.0719]])\n",
            "\n",
            "shape of x2 is : torch.Size([2, 6])\n",
            "\n"
          ]
        }
      ]
    },
    {
      "cell_type": "code",
      "source": [
        "# consider we want to reshape a tensor, and we want to pass one of the new dimensions\n",
        "# so pytorch calculate other dimensions with respect to what we passed\n",
        "\n",
        "x = torch.rand(4,6)\n",
        "print(f\"x is : {x}\\n\")\n",
        "print(f\"shape of x is : {x.size()}\\n\")\n",
        "\n",
        "x2 = x.view(-1,2,4)\n",
        "print(f\"x is : {x2}\\n\")\n",
        "print(f\"shape of x2 is : {x2.size()}\\n\")"
      ],
      "metadata": {
        "colab": {
          "base_uri": "https://localhost:8080/"
        },
        "id": "W24t1mbSIwvM",
        "outputId": "00773020-62f5-4d52-a7fc-392f0b5da3be"
      },
      "execution_count": 14,
      "outputs": [
        {
          "output_type": "stream",
          "name": "stdout",
          "text": [
            "x is : tensor([[0.0606, 0.1286, 0.4998, 0.2304, 0.3392, 0.5274],\n",
            "        [0.5542, 0.5074, 0.9697, 0.3876, 0.7143, 0.4914],\n",
            "        [0.7388, 0.5923, 0.6806, 0.5152, 0.9428, 0.3457],\n",
            "        [0.0578, 0.1214, 0.8202, 0.2884, 0.5604, 0.0423]])\n",
            "\n",
            "shape of x is : torch.Size([4, 6])\n",
            "\n",
            "x is : tensor([[[0.0606, 0.1286, 0.4998, 0.2304],\n",
            "         [0.3392, 0.5274, 0.5542, 0.5074]],\n",
            "\n",
            "        [[0.9697, 0.3876, 0.7143, 0.4914],\n",
            "         [0.7388, 0.5923, 0.6806, 0.5152]],\n",
            "\n",
            "        [[0.9428, 0.3457, 0.0578, 0.1214],\n",
            "         [0.8202, 0.2884, 0.5604, 0.0423]]])\n",
            "\n",
            "shape of x2 is : torch.Size([3, 2, 4])\n",
            "\n"
          ]
        }
      ]
    },
    {
      "cell_type": "code",
      "source": [
        "# numpy\n",
        "\n",
        "import numpy as np"
      ],
      "metadata": {
        "id": "hp6Rxjh6JloW"
      },
      "execution_count": 15,
      "outputs": []
    },
    {
      "cell_type": "code",
      "source": [
        "# sometimes you need to change numpy arrays to tensors\n",
        "\n",
        "np_arr = np.random.randn(2,4)\n",
        "print(f\" np_arr : {np_arr}\\n type: {type(np_arr)}\\n\")\n",
        "\n",
        "tensor_arr = torch.from_numpy(np_arr)\n",
        "print(f\" tensor_arr : {tensor_arr}\\n type: {type(tensor_arr)}\")"
      ],
      "metadata": {
        "colab": {
          "base_uri": "https://localhost:8080/"
        },
        "id": "VsUiqXf9J9bA",
        "outputId": "080eaa75-0f58-41f7-aaf0-efd0ba7c91a6"
      },
      "execution_count": 19,
      "outputs": [
        {
          "output_type": "stream",
          "name": "stdout",
          "text": [
            " np_arr : [[-0.89827763  1.01065498 -0.07502199 -2.44255049]\n",
            " [-0.39961354  0.61091852  0.1645482   0.16746311]]\n",
            " type: <class 'numpy.ndarray'>\n",
            "\n",
            " tensor_arr : tensor([[-0.8983,  1.0107, -0.0750, -2.4426],\n",
            "        [-0.3996,  0.6109,  0.1645,  0.1675]], dtype=torch.float64)\n",
            " type: <class 'torch.Tensor'>\n"
          ]
        }
      ]
    },
    {
      "cell_type": "code",
      "source": [
        "# most of the time we train our model on GPU \n",
        "# to check if the option of training the model is available we can\n",
        "\n",
        "if torch.cuda.is_available():\n",
        "  # specify cuda device\n",
        "  device = torch.device(\"cuda\")\n",
        "\n",
        "  # for creating a tensor on the GPU\n",
        "  x = torch.ones((2,4), device=device)\n",
        "\n",
        "  # or first create it and then move it to device\n",
        "  y = torch.ones(2,4)\n",
        "  y = y.to(device)\n",
        "\n",
        "  # if any operation needs x and y it will be fulfilled on the device (GPU)\n",
        "  z = x+y\n",
        "\n",
        "  # remember, numpy can only handle CPU tensors "
      ],
      "metadata": {
        "id": "-CKjR6AIL78_"
      },
      "execution_count": 21,
      "outputs": []
    },
    {
      "cell_type": "code",
      "source": [],
      "metadata": {
        "id": "k_dCb0gXNbGu"
      },
      "execution_count": null,
      "outputs": []
    }
  ]
}