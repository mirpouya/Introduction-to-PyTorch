{
  "nbformat": 4,
  "nbformat_minor": 0,
  "metadata": {
    "colab": {
      "provenance": [],
      "authorship_tag": "ABX9TyNaBMD5mnkBHr7WG3x66JC+",
      "include_colab_link": true
    },
    "kernelspec": {
      "name": "python3",
      "display_name": "Python 3"
    },
    "language_info": {
      "name": "python"
    }
  },
  "cells": [
    {
      "cell_type": "markdown",
      "metadata": {
        "id": "view-in-github",
        "colab_type": "text"
      },
      "source": [
        "<a href=\"https://colab.research.google.com/github/mirpouya/Introduction-to-PyTorch/blob/main/pytorch_intro.ipynb\" target=\"_parent\"><img src=\"https://colab.research.google.com/assets/colab-badge.svg\" alt=\"Open In Colab\"/></a>"
      ]
    },
    {
      "cell_type": "code",
      "execution_count": 1,
      "metadata": {
        "id": "wxbSX2Hx6bd2"
      },
      "outputs": [],
      "source": [
        "import torch"
      ]
    },
    {
      "cell_type": "markdown",
      "source": [
        "**<h2> Tensors </h2>**"
      ],
      "metadata": {
        "id": "WQwc-3F3EyqR"
      }
    },
    {
      "cell_type": "code",
      "source": [
        "# making an empty tensor\n",
        "\n",
        "x = torch.empty(3)\n",
        "x\n",
        "\n",
        "# values are not initialized"
      ],
      "metadata": {
        "colab": {
          "base_uri": "https://localhost:8080/"
        },
        "id": "wtHoaGUiEYOV",
        "outputId": "e67610f4-8546-40f5-e992-84cffe0f5ca6"
      },
      "execution_count": 2,
      "outputs": [
        {
          "output_type": "execute_result",
          "data": {
            "text/plain": [
              "tensor([0., 0., 0.])"
            ]
          },
          "metadata": {},
          "execution_count": 2
        }
      ]
    },
    {
      "cell_type": "code",
      "source": [
        "x = torch.empty(2,3)"
      ],
      "metadata": {
        "id": "8wyaAZX5FPk3"
      },
      "execution_count": 3,
      "outputs": []
    },
    {
      "cell_type": "code",
      "source": [
        "x"
      ],
      "metadata": {
        "colab": {
          "base_uri": "https://localhost:8080/"
        },
        "id": "WXrtkRwTFhre",
        "outputId": "0f187214-5b85-49c8-ae5a-571e760c3f38"
      },
      "execution_count": 4,
      "outputs": [
        {
          "output_type": "execute_result",
          "data": {
            "text/plain": [
              "tensor([[0.0000e+00, 6.2121e+22, 1.8788e+31],\n",
              "        [1.7220e+22, 2.1715e-18, 2.6222e-09]])"
            ]
          },
          "metadata": {},
          "execution_count": 4
        }
      ]
    },
    {
      "cell_type": "code",
      "source": [
        "# tensors with random values\n",
        "\n",
        "x = torch.rand(2,4)\n",
        "x"
      ],
      "metadata": {
        "colab": {
          "base_uri": "https://localhost:8080/"
        },
        "id": "M8pWd28DFx8P",
        "outputId": "8bf9a048-2328-4350-e55e-ed6f7a6b85a2"
      },
      "execution_count": 6,
      "outputs": [
        {
          "output_type": "execute_result",
          "data": {
            "text/plain": [
              "tensor([[0.4668, 0.5965, 0.4280, 0.7782],\n",
              "        [0.3246, 0.2997, 0.2306, 0.0424]])"
            ]
          },
          "metadata": {},
          "execution_count": 6
        }
      ]
    },
    {
      "cell_type": "code",
      "source": [
        "x = torch.ones(2,3,4)\n",
        "x"
      ],
      "metadata": {
        "colab": {
          "base_uri": "https://localhost:8080/"
        },
        "id": "xdjsJDWsGBeC",
        "outputId": "119d036b-d186-42f1-e0ce-e464aaa3354f"
      },
      "execution_count": 7,
      "outputs": [
        {
          "output_type": "execute_result",
          "data": {
            "text/plain": [
              "tensor([[[1., 1., 1., 1.],\n",
              "         [1., 1., 1., 1.],\n",
              "         [1., 1., 1., 1.]],\n",
              "\n",
              "        [[1., 1., 1., 1.],\n",
              "         [1., 1., 1., 1.],\n",
              "         [1., 1., 1., 1.]]])"
            ]
          },
          "metadata": {},
          "execution_count": 7
        }
      ]
    },
    {
      "cell_type": "code",
      "source": [
        "# shape of a tensor\n",
        "\n",
        "x.size()"
      ],
      "metadata": {
        "colab": {
          "base_uri": "https://localhost:8080/"
        },
        "id": "tZ4O2HNjGZSt",
        "outputId": "c5d8a075-5866-46de-8d8d-a36ecac5c3bf"
      },
      "execution_count": 8,
      "outputs": [
        {
          "output_type": "execute_result",
          "data": {
            "text/plain": [
              "torch.Size([2, 3, 4])"
            ]
          },
          "metadata": {},
          "execution_count": 8
        }
      ]
    },
    {
      "cell_type": "code",
      "source": [
        "x1 = torch.rand(2,3)\n",
        "print(f\"x1 : {x1}\")\n",
        "\n",
        "x2 = torch.ones(2,3)\n",
        "print(f\"x2 : {x2}\")\n",
        "\n",
        "# adding x2 to x1\n",
        "\n",
        "x1.add_(x2)\n",
        "print(f\"x1 : {x1}\")"
      ],
      "metadata": {
        "colab": {
          "base_uri": "https://localhost:8080/"
        },
        "id": "Bu1skznjGdZR",
        "outputId": "378ad3b6-6a7c-48a4-e3a1-73d03f809b30"
      },
      "execution_count": 11,
      "outputs": [
        {
          "output_type": "stream",
          "name": "stdout",
          "text": [
            "x1 : tensor([[0.1599, 0.0188, 0.7589],\n",
            "        [0.8851, 0.7231, 0.3647]])\n",
            "x2 : tensor([[1., 1., 1.],\n",
            "        [1., 1., 1.]])\n",
            "x1 : tensor([[1.1599, 1.0188, 1.7589],\n",
            "        [1.8851, 1.7231, 1.3647]])\n"
          ]
        }
      ]
    },
    {
      "cell_type": "code",
      "source": [
        "# in pyorch every function that has underline \"_\" at the end, does an inplace opperation\n",
        "# these three are the same\n",
        "\n",
        "x = torch.ones(3)\n",
        "y = torch.rand(3)\n",
        "z = torch.sub(x,y)\n",
        "\n",
        "\n",
        "print(f\"x - y : {x - y}\\n\")\n",
        "print(f\"z : {z}\\n\")\n",
        "\n",
        "x.sub_(y)\n",
        "print(f\"x.sub_(y) : {x}\\n\")"
      ],
      "metadata": {
        "colab": {
          "base_uri": "https://localhost:8080/"
        },
        "id": "cxb3yhzVGyaK",
        "outputId": "818bb41e-46b5-46db-c6cf-4bae01ee4dfc"
      },
      "execution_count": 12,
      "outputs": [
        {
          "output_type": "stream",
          "name": "stdout",
          "text": [
            "x - y : tensor([0.7956, 0.8260, 0.2597])\n",
            "\n",
            "z : tensor([0.7956, 0.8260, 0.2597])\n",
            "\n",
            "x.sub_(y) : tensor([0.7956, 0.8260, 0.2597])\n",
            "\n"
          ]
        }
      ]
    },
    {
      "cell_type": "code",
      "source": [],
      "metadata": {
        "id": "ofVH9FwjH1_x"
      },
      "execution_count": null,
      "outputs": []
    }
  ]
}