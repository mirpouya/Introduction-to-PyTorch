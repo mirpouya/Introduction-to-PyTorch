{
  "nbformat": 4,
  "nbformat_minor": 0,
  "metadata": {
    "colab": {
      "provenance": [],
      "authorship_tag": "ABX9TyPj9kQdsV1UQ7SV3D65l7g8",
      "include_colab_link": true
    },
    "kernelspec": {
      "name": "python3",
      "display_name": "Python 3"
    },
    "language_info": {
      "name": "python"
    }
  },
  "cells": [
    {
      "cell_type": "markdown",
      "metadata": {
        "id": "view-in-github",
        "colab_type": "text"
      },
      "source": [
        "<a href=\"https://colab.research.google.com/github/mirpouya/Introduction-to-PyTorch/blob/main/pytorch_intro.ipynb\" target=\"_parent\"><img src=\"https://colab.research.google.com/assets/colab-badge.svg\" alt=\"Open In Colab\"/></a>"
      ]
    },
    {
      "cell_type": "code",
      "execution_count": null,
      "metadata": {
        "id": "wxbSX2Hx6bd2"
      },
      "outputs": [],
      "source": [
        "import torch"
      ]
    },
    {
      "cell_type": "markdown",
      "source": [
        "**<h2> Tensors </h2>**"
      ],
      "metadata": {
        "id": "WQwc-3F3EyqR"
      }
    },
    {
      "cell_type": "code",
      "source": [
        "# making an empty tensor\n",
        "\n",
        "x = torch.empty(3)\n",
        "x\n",
        "\n",
        "# values are not initialized"
      ],
      "metadata": {
        "colab": {
          "base_uri": "https://localhost:8080/"
        },
        "id": "wtHoaGUiEYOV",
        "outputId": "94981606-4b5e-44f8-cb3b-98366db1d283"
      },
      "execution_count": null,
      "outputs": [
        {
          "output_type": "execute_result",
          "data": {
            "text/plain": [
              "tensor([-7.3062e+27,  4.5811e-41,  9.6350e-35])"
            ]
          },
          "metadata": {},
          "execution_count": 38
        }
      ]
    },
    {
      "cell_type": "code",
      "source": [
        "x = torch.empty(2,3)"
      ],
      "metadata": {
        "id": "8wyaAZX5FPk3"
      },
      "execution_count": null,
      "outputs": []
    },
    {
      "cell_type": "code",
      "source": [
        "x"
      ],
      "metadata": {
        "colab": {
          "base_uri": "https://localhost:8080/"
        },
        "id": "WXrtkRwTFhre",
        "outputId": "e4376a47-f069-4eeb-b9ab-182e695717f1"
      },
      "execution_count": null,
      "outputs": [
        {
          "output_type": "execute_result",
          "data": {
            "text/plain": [
              "tensor([[9.4303e-35, 0.0000e+00, 8.1261e-35],\n",
              "        [0.0000e+00, 9.3736e-35, 0.0000e+00]])"
            ]
          },
          "metadata": {},
          "execution_count": 40
        }
      ]
    },
    {
      "cell_type": "code",
      "source": [
        "# tensors with random values\n",
        "\n",
        "x = torch.rand(2,4)\n",
        "x"
      ],
      "metadata": {
        "colab": {
          "base_uri": "https://localhost:8080/"
        },
        "id": "M8pWd28DFx8P",
        "outputId": "87a11748-5174-4f7c-d6ca-5bca4cb05b8a"
      },
      "execution_count": null,
      "outputs": [
        {
          "output_type": "execute_result",
          "data": {
            "text/plain": [
              "tensor([[0.0846, 0.1459, 0.3368, 0.5671],\n",
              "        [0.0363, 0.0838, 0.1082, 0.2956]])"
            ]
          },
          "metadata": {},
          "execution_count": 41
        }
      ]
    },
    {
      "cell_type": "code",
      "source": [
        "x = torch.ones(2,3,4)\n",
        "x"
      ],
      "metadata": {
        "colab": {
          "base_uri": "https://localhost:8080/"
        },
        "id": "xdjsJDWsGBeC",
        "outputId": "8be33b07-c456-4bf9-dc7f-27ac15062f7d"
      },
      "execution_count": null,
      "outputs": [
        {
          "output_type": "execute_result",
          "data": {
            "text/plain": [
              "tensor([[[1., 1., 1., 1.],\n",
              "         [1., 1., 1., 1.],\n",
              "         [1., 1., 1., 1.]],\n",
              "\n",
              "        [[1., 1., 1., 1.],\n",
              "         [1., 1., 1., 1.],\n",
              "         [1., 1., 1., 1.]]])"
            ]
          },
          "metadata": {},
          "execution_count": 42
        }
      ]
    },
    {
      "cell_type": "code",
      "source": [
        "# shape of a tensor\n",
        "\n",
        "x.size()"
      ],
      "metadata": {
        "colab": {
          "base_uri": "https://localhost:8080/"
        },
        "id": "tZ4O2HNjGZSt",
        "outputId": "21a4ba2d-2238-4da4-824c-87373d0fec26"
      },
      "execution_count": null,
      "outputs": [
        {
          "output_type": "execute_result",
          "data": {
            "text/plain": [
              "torch.Size([2, 3, 4])"
            ]
          },
          "metadata": {},
          "execution_count": 43
        }
      ]
    },
    {
      "cell_type": "code",
      "source": [
        "x1 = torch.rand(2,3)\n",
        "print(f\"x1 : {x1}\")\n",
        "\n",
        "x2 = torch.ones(2,3)\n",
        "print(f\"x2 : {x2}\")\n",
        "\n",
        "# adding x2 to x1\n",
        "\n",
        "x1.add_(x2)\n",
        "print(f\"x1 : {x1}\")"
      ],
      "metadata": {
        "colab": {
          "base_uri": "https://localhost:8080/"
        },
        "id": "Bu1skznjGdZR",
        "outputId": "5d625b5f-c516-4518-bf3f-99f85ad1e5c3"
      },
      "execution_count": null,
      "outputs": [
        {
          "output_type": "stream",
          "name": "stdout",
          "text": [
            "x1 : tensor([[0.7914, 0.1670, 0.4790],\n",
            "        [0.7533, 0.5444, 0.4997]])\n",
            "x2 : tensor([[1., 1., 1.],\n",
            "        [1., 1., 1.]])\n",
            "x1 : tensor([[1.7914, 1.1670, 1.4790],\n",
            "        [1.7533, 1.5444, 1.4997]])\n"
          ]
        }
      ]
    },
    {
      "cell_type": "code",
      "source": [
        "# in pyorch every function that has underline \"_\" at the end, does an inplace opperation\n",
        "# these three are the same\n",
        "\n",
        "x = torch.ones(3)\n",
        "y = torch.rand(3)\n",
        "z = torch.sub(x,y)\n",
        "\n",
        "\n",
        "print(f\"x - y : {x - y}\\n\")\n",
        "print(f\"z : {z}\\n\")\n",
        "\n",
        "x.sub_(y)\n",
        "print(f\"x.sub_(y) : {x}\\n\")"
      ],
      "metadata": {
        "colab": {
          "base_uri": "https://localhost:8080/"
        },
        "id": "cxb3yhzVGyaK",
        "outputId": "7c028893-43be-46b4-f9c7-67c2bfd6451f"
      },
      "execution_count": null,
      "outputs": [
        {
          "output_type": "stream",
          "name": "stdout",
          "text": [
            "x - y : tensor([0.1611, 0.8276, 0.4206])\n",
            "\n",
            "z : tensor([0.1611, 0.8276, 0.4206])\n",
            "\n",
            "x.sub_(y) : tensor([0.1611, 0.8276, 0.4206])\n",
            "\n"
          ]
        }
      ]
    },
    {
      "cell_type": "code",
      "source": [
        "# reshaping tensor\n",
        "\n",
        "x = torch.rand(3,4)\n",
        "\n",
        "print(f\"x is : {x}\\n\")\n",
        "print(f\"shape of x is : {x.size()}\\n\")\n",
        "\n",
        "x2 = x.view(2,6)\n",
        "\n",
        "print(f\"x2 is : {x2}\\n\")\n",
        "print(f\"shape of x2 is : {x2.size()}\\n\")"
      ],
      "metadata": {
        "colab": {
          "base_uri": "https://localhost:8080/"
        },
        "id": "ofVH9FwjH1_x",
        "outputId": "79089641-649a-4013-d754-0c39421f4af3"
      },
      "execution_count": null,
      "outputs": [
        {
          "output_type": "stream",
          "name": "stdout",
          "text": [
            "x is : tensor([[0.4677, 0.6345, 0.9472, 0.8734],\n",
            "        [0.7569, 0.1102, 0.5118, 0.5371],\n",
            "        [0.1469, 0.4628, 0.4660, 0.6707]])\n",
            "\n",
            "shape of x is : torch.Size([3, 4])\n",
            "\n",
            "x2 is : tensor([[0.4677, 0.6345, 0.9472, 0.8734, 0.7569, 0.1102],\n",
            "        [0.5118, 0.5371, 0.1469, 0.4628, 0.4660, 0.6707]])\n",
            "\n",
            "shape of x2 is : torch.Size([2, 6])\n",
            "\n"
          ]
        }
      ]
    },
    {
      "cell_type": "code",
      "source": [
        "# consider we want to reshape a tensor, and we want to pass one of the new dimensions\n",
        "# so pytorch calculate other dimensions with respect to what we passed\n",
        "\n",
        "x = torch.rand(4,6)\n",
        "print(f\"x is : {x}\\n\")\n",
        "print(f\"shape of x is : {x.size()}\\n\")\n",
        "\n",
        "x2 = x.view(-1,2,4)\n",
        "print(f\"x is : {x2}\\n\")\n",
        "print(f\"shape of x2 is : {x2.size()}\\n\")"
      ],
      "metadata": {
        "colab": {
          "base_uri": "https://localhost:8080/"
        },
        "id": "W24t1mbSIwvM",
        "outputId": "3803c684-9aff-477d-df8e-178c33b10e2e"
      },
      "execution_count": null,
      "outputs": [
        {
          "output_type": "stream",
          "name": "stdout",
          "text": [
            "x is : tensor([[0.7259, 0.7557, 0.3750, 0.9357, 0.3231, 0.3574],\n",
            "        [0.3264, 0.3082, 0.2572, 0.6789, 0.8526, 0.7113],\n",
            "        [0.2149, 0.1412, 0.2688, 0.7348, 0.6197, 0.5672],\n",
            "        [0.3031, 0.4368, 0.5233, 0.1664, 0.7465, 0.2701]])\n",
            "\n",
            "shape of x is : torch.Size([4, 6])\n",
            "\n",
            "x is : tensor([[[0.7259, 0.7557, 0.3750, 0.9357],\n",
            "         [0.3231, 0.3574, 0.3264, 0.3082]],\n",
            "\n",
            "        [[0.2572, 0.6789, 0.8526, 0.7113],\n",
            "         [0.2149, 0.1412, 0.2688, 0.7348]],\n",
            "\n",
            "        [[0.6197, 0.5672, 0.3031, 0.4368],\n",
            "         [0.5233, 0.1664, 0.7465, 0.2701]]])\n",
            "\n",
            "shape of x2 is : torch.Size([3, 2, 4])\n",
            "\n"
          ]
        }
      ]
    },
    {
      "cell_type": "code",
      "source": [
        "# numpy\n",
        "\n",
        "import numpy as np"
      ],
      "metadata": {
        "id": "hp6Rxjh6JloW"
      },
      "execution_count": null,
      "outputs": []
    },
    {
      "cell_type": "code",
      "source": [
        "# sometimes you need to change numpy arrays to tensors\n",
        "\n",
        "np_arr = np.random.randn(2,4)\n",
        "print(f\" np_arr : {np_arr}\\n type: {type(np_arr)}\\n\")\n",
        "\n",
        "tensor_arr = torch.from_numpy(np_arr)\n",
        "print(f\" tensor_arr : {tensor_arr}\\n type: {type(tensor_arr)}\")"
      ],
      "metadata": {
        "colab": {
          "base_uri": "https://localhost:8080/"
        },
        "id": "VsUiqXf9J9bA",
        "outputId": "d0bad259-31da-4c67-946d-d7aac00962ce"
      },
      "execution_count": null,
      "outputs": [
        {
          "output_type": "stream",
          "name": "stdout",
          "text": [
            " np_arr : [[ 2.4345086   1.02461036 -1.9507967   0.95667447]\n",
            " [-0.05011382  0.76821913 -0.66882421 -1.16434976]]\n",
            " type: <class 'numpy.ndarray'>\n",
            "\n",
            " tensor_arr : tensor([[ 2.4345,  1.0246, -1.9508,  0.9567],\n",
            "        [-0.0501,  0.7682, -0.6688, -1.1643]], dtype=torch.float64)\n",
            " type: <class 'torch.Tensor'>\n"
          ]
        }
      ]
    },
    {
      "cell_type": "code",
      "source": [
        "# most of the time we train our model on GPU \n",
        "# to check if the option of training the model is available we can\n",
        "\n",
        "if torch.cuda.is_available():\n",
        "  # specify cuda device\n",
        "  device = torch.device(\"cuda\")\n",
        "\n",
        "  # for creating a tensor on the GPU\n",
        "  x = torch.ones((2,4), device=device)\n",
        "\n",
        "  # or first create it and then move it to device\n",
        "  y = torch.ones(2,4)\n",
        "  y = y.to(device)\n",
        "\n",
        "  # if any operation needs x and y it will be fulfilled on the device (GPU)\n",
        "  z = x+y\n",
        "\n",
        "  # remember, numpy can only handle CPU tensors "
      ],
      "metadata": {
        "id": "-CKjR6AIL78_"
      },
      "execution_count": null,
      "outputs": []
    },
    {
      "cell_type": "markdown",
      "source": [
        "**<h2> Autograd </h2>**"
      ],
      "metadata": {
        "id": "rHSp6B2pO8Mk"
      }
    },
    {
      "cell_type": "markdown",
      "source": [
        "It is used to calculate gradients"
      ],
      "metadata": {
        "id": "rQj-NB7OXeMD"
      }
    },
    {
      "cell_type": "code",
      "source": [
        "x = torch.randn(3, requires_grad=True)\n",
        "x"
      ],
      "metadata": {
        "colab": {
          "base_uri": "https://localhost:8080/"
        },
        "id": "k_dCb0gXNbGu",
        "outputId": "f6dec58b-6bfc-4e53-b22b-186be7d94b4e"
      },
      "execution_count": null,
      "outputs": [
        {
          "output_type": "execute_result",
          "data": {
            "text/plain": [
              "tensor([ 0.5098,  0.8704, -0.8142], requires_grad=True)"
            ]
          },
          "metadata": {},
          "execution_count": 51
        }
      ]
    },
    {
      "cell_type": "code",
      "source": [
        "# we want to calculate gradients of a function with respect to x\n",
        "# therefore we must set the argument \"requires_grad\" to True\n",
        "print(f\"x : {x}\\n\")\n",
        "\n",
        "y = 2*x + 3\n",
        "print(f\"y : {y}\\n\")\n",
        "\n",
        "z = 2*(y**2)\n",
        "print(f\"z : {z}\\n\")\n",
        "\n",
        "# z = z.mean()\n",
        "#print(f\"z.mean() : {z}\\n\")"
      ],
      "metadata": {
        "colab": {
          "base_uri": "https://localhost:8080/"
        },
        "id": "UbR5b3LjXpJQ",
        "outputId": "9bffa21f-e292-4fd2-90de-cd6e590c57eb"
      },
      "execution_count": null,
      "outputs": [
        {
          "output_type": "stream",
          "name": "stdout",
          "text": [
            "x : tensor([ 0.5098,  0.8704, -0.8142], requires_grad=True)\n",
            "\n",
            "y : tensor([4.0196, 4.7408, 1.3716], grad_fn=<AddBackward0>)\n",
            "\n",
            "z : tensor([32.3147, 44.9497,  3.7625], grad_fn=<MulBackward0>)\n",
            "\n"
          ]
        }
      ]
    },
    {
      "cell_type": "code",
      "source": [
        "z.backward(x)  # dz/dx since we specified requires_grad=True only in x\n",
        "\n",
        "# then x has .grad attributes which the gradients with respect to x is stored\n",
        "\n",
        "print(f\"gradients with respect to x : {x.grad}\")"
      ],
      "metadata": {
        "colab": {
          "base_uri": "https://localhost:8080/"
        },
        "id": "ezW6yLc_ZSTY",
        "outputId": "fd14e90f-d179-4f91-e65e-6321cefdeb57"
      },
      "execution_count": null,
      "outputs": [
        {
          "output_type": "stream",
          "name": "stdout",
          "text": [
            "gradients with respect to x : tensor([16.3939, 33.0102, -8.9340])\n"
          ]
        }
      ]
    },
    {
      "cell_type": "code",
      "source": [
        "# each time gradient values get accumulated in x.grad\n",
        "# so be careful about this\n",
        "\n",
        "# a dummy example\n",
        "weights = torch.ones(4, requires_grad=True)\n",
        "\n",
        "# training loop\n",
        "for epoch in range(1):\n",
        "  model_output = (weights*3).sum()\n",
        "\n",
        "  # calculate gradients\n",
        "  model_output.backward()\n",
        "\n",
        "  print(f\"weights.grad : {weights.grad}\\n\")"
      ],
      "metadata": {
        "colab": {
          "base_uri": "https://localhost:8080/"
        },
        "id": "_BiWXtTddegR",
        "outputId": "31f3a620-7248-4bc7-98e3-4e711ce047c3"
      },
      "execution_count": null,
      "outputs": [
        {
          "output_type": "stream",
          "name": "stdout",
          "text": [
            "weights.grad : tensor([3., 3., 3., 3.])\n",
            "\n"
          ]
        }
      ]
    },
    {
      "cell_type": "code",
      "source": [
        "# a dummy example , continue\n",
        "weights = torch.ones(4, requires_grad=True)\n",
        "\n",
        "# training loop\n",
        "for epoch in range(2):\n",
        "  model_output = (weights*3).sum()\n",
        "\n",
        "  # calculate gradients\n",
        "  model_output.backward()\n",
        "\n",
        "  print(f\"weights.grad : {weights.grad}\\n\")"
      ],
      "metadata": {
        "colab": {
          "base_uri": "https://localhost:8080/"
        },
        "id": "zzRSjFATfmU6",
        "outputId": "ac86dc5c-914d-4a2a-bec2-3fb22e14b3dd"
      },
      "execution_count": null,
      "outputs": [
        {
          "output_type": "stream",
          "name": "stdout",
          "text": [
            "weights.grad : tensor([3., 3., 3., 3.])\n",
            "\n",
            "weights.grad : tensor([6., 6., 6., 6.])\n",
            "\n"
          ]
        }
      ]
    },
    {
      "cell_type": "code",
      "source": [
        "# therefore we must zero gradients each time\n",
        "\n",
        "# a dummy example , continue\n",
        "weights = torch.ones(4, requires_grad=True)\n",
        "\n",
        "# training loop\n",
        "for epoch in range(3):\n",
        "  model_output = (weights*3).sum()\n",
        "\n",
        "  # calculate gradients\n",
        "  model_output.backward()\n",
        "\n",
        "  print(f\"weights.grad : {weights.grad}\\n\")\n",
        "\n",
        "  weights.grad.zero_()"
      ],
      "metadata": {
        "colab": {
          "base_uri": "https://localhost:8080/"
        },
        "id": "hrIdqeCafsfh",
        "outputId": "1243fbb9-898e-49e9-dd7e-f36c032bda00"
      },
      "execution_count": null,
      "outputs": [
        {
          "output_type": "stream",
          "name": "stdout",
          "text": [
            "weights.grad : tensor([3., 3., 3., 3.])\n",
            "\n",
            "weights.grad : tensor([3., 3., 3., 3.])\n",
            "\n",
            "weights.grad : tensor([3., 3., 3., 3.])\n",
            "\n"
          ]
        }
      ]
    },
    {
      "cell_type": "code",
      "source": [
        "# a quick computer vision project\n",
        "\n",
        "import torch\n",
        "from torch import nn\n",
        "from torch.utils.data import DataLoader\n",
        "from torchvision import datasets\n",
        "from torchvision.transforms import ToTensor"
      ],
      "metadata": {
        "id": "KpVcBDEegEGe"
      },
      "execution_count": 2,
      "outputs": []
    },
    {
      "cell_type": "code",
      "source": [
        "# for this project I use FashionMNIST\n",
        "\n",
        "# download Training data\n",
        "training_data = datasets.FashionMNIST(\n",
        "    root = \"data\",\n",
        "    train = True,\n",
        "    download = True,\n",
        "    transform = ToTensor(),\n",
        ")\n",
        "\n",
        "# download test data\n",
        "\n",
        "test_data = datasets.FashionMNIST(\n",
        "    root = \"data\",\n",
        "    train = False,\n",
        "    download = True,\n",
        "    transform = ToTensor(),\n",
        ")"
      ],
      "metadata": {
        "id": "rF64Qff4dzi7",
        "outputId": "46cbb57b-9013-4944-9901-20229825f0bd",
        "colab": {
          "base_uri": "https://localhost:8080/"
        }
      },
      "execution_count": 5,
      "outputs": [
        {
          "output_type": "stream",
          "name": "stdout",
          "text": [
            "Downloading http://fashion-mnist.s3-website.eu-central-1.amazonaws.com/train-images-idx3-ubyte.gz\n",
            "Using downloaded and verified file: data/FashionMNIST/raw/train-images-idx3-ubyte.gz\n",
            "Extracting data/FashionMNIST/raw/train-images-idx3-ubyte.gz to data/FashionMNIST/raw\n",
            "\n",
            "Downloading http://fashion-mnist.s3-website.eu-central-1.amazonaws.com/train-labels-idx1-ubyte.gz\n",
            "Using downloaded and verified file: data/FashionMNIST/raw/train-labels-idx1-ubyte.gz\n",
            "Extracting data/FashionMNIST/raw/train-labels-idx1-ubyte.gz to data/FashionMNIST/raw\n",
            "\n",
            "Downloading http://fashion-mnist.s3-website.eu-central-1.amazonaws.com/t10k-images-idx3-ubyte.gz\n",
            "Using downloaded and verified file: data/FashionMNIST/raw/t10k-images-idx3-ubyte.gz\n",
            "Extracting data/FashionMNIST/raw/t10k-images-idx3-ubyte.gz to data/FashionMNIST/raw\n",
            "\n",
            "Downloading http://fashion-mnist.s3-website.eu-central-1.amazonaws.com/t10k-labels-idx1-ubyte.gz\n",
            "Using downloaded and verified file: data/FashionMNIST/raw/t10k-labels-idx1-ubyte.gz\n",
            "Extracting data/FashionMNIST/raw/t10k-labels-idx1-ubyte.gz to data/FashionMNIST/raw\n",
            "\n"
          ]
        }
      ]
    },
    {
      "cell_type": "code",
      "source": [
        "# now we pass the downloaded dataset to DataLoader()\n",
        "# this enables us to batch, sample, shuffle, ...\n",
        "\n",
        "batch_size = 64\n",
        "\n",
        "train_dataloader = DataLoader(training_data, batch_size=batch_size)\n",
        "test_dataloader = DataLoader(test_data, batch_size=batch_size)"
      ],
      "metadata": {
        "id": "TGPfL151emq2"
      },
      "execution_count": 7,
      "outputs": []
    },
    {
      "cell_type": "code",
      "source": [
        "# size of train split\n",
        "\n",
        "for X, y in train_dataloader:\n",
        "  print(f\"Shape of X_trian [N, C, H, W]: {X.shape}\")\n",
        "  print(f\"Shape of y_train: {y.shape} {y.dtype}\")\n",
        "  break"
      ],
      "metadata": {
        "id": "TjGBEnfze77y",
        "outputId": "ee9498db-7314-4571-eaf9-8af0498d5411",
        "colab": {
          "base_uri": "https://localhost:8080/"
        }
      },
      "execution_count": 8,
      "outputs": [
        {
          "output_type": "stream",
          "name": "stdout",
          "text": [
            "Shape of X_trian [N, C, H, W]: torch.Size([64, 1, 28, 28])\n",
            "Shape of y_train: torch.Size([64]) torch.int64\n"
          ]
        }
      ]
    },
    {
      "cell_type": "code",
      "source": [
        "# size of test split\n",
        "\n",
        "for X, y in test_dataloader:\n",
        "  print(f\"Shape of X_test [N, C, H, W]: {X.shape}\")\n",
        "  print(f\"Shape of y_test: {y.shape} {y.dtype}\")\n",
        "  break"
      ],
      "metadata": {
        "id": "NbL8Z-JokLu8",
        "outputId": "23655847-031f-4fb8-858c-e0278cabef74",
        "colab": {
          "base_uri": "https://localhost:8080/"
        }
      },
      "execution_count": 9,
      "outputs": [
        {
          "output_type": "stream",
          "name": "stdout",
          "text": [
            "Shape of X_test [N, C, H, W]: torch.Size([64, 1, 28, 28])\n",
            "Shape of y_test: torch.Size([64]) torch.int64\n"
          ]
        }
      ]
    },
    {
      "cell_type": "markdown",
      "source": [
        "**<h2> Deeper Look in Datasets and DataLoader </h2>**"
      ],
      "metadata": {
        "id": "mgucwMcpkxdm"
      }
    },
    {
      "cell_type": "markdown",
      "source": [
        "we ideally want our dataset code to be decoupled from our model training code for better readability and modularity"
      ],
      "metadata": {
        "id": "C6j9lS5tlCl1"
      }
    },
    {
      "cell_type": "code",
      "source": [
        "training_data = datasets.FashionMNIST(\n",
        "    root=\"data\",\n",
        "    train=True,\n",
        "    download=True,\n",
        "    transform=ToTensor()\n",
        ")\n",
        "\n",
        "test_data = datasets.FashionMNIST(\n",
        "    root=\"data\",\n",
        "    train=False,\n",
        "    download=True,\n",
        "    transform=ToTensor()\n",
        ")"
      ],
      "metadata": {
        "id": "oFbdneL5kWGf"
      },
      "execution_count": 14,
      "outputs": []
    },
    {
      "cell_type": "markdown",
      "source": [
        "**<h2> Visualizing the dataset </h2>**"
      ],
      "metadata": {
        "id": "seoPfLaDlwLF"
      }
    },
    {
      "cell_type": "code",
      "source": [
        "labels_map = {\n",
        "    0: \"T-Shirt\",\n",
        "    1: \"Trouser\",\n",
        "    2: \"Pullover\",\n",
        "    3: \"Dress\",\n",
        "    4: \"Coat\",\n",
        "    5: \"Sandal\",\n",
        "    6: \"Shirt\",\n",
        "    7: \"Sneaker\",\n",
        "    8: \"Bag\",\n",
        "    9: \"Ankle Boot\",\n",
        "}"
      ],
      "metadata": {
        "id": "XcE0o9wWkcFj"
      },
      "execution_count": 15,
      "outputs": []
    },
    {
      "cell_type": "code",
      "source": [
        "import matplotlib.pyplot as plt"
      ],
      "metadata": {
        "id": "4Ixmz6hPl7iv"
      },
      "execution_count": 16,
      "outputs": []
    },
    {
      "cell_type": "code",
      "source": [
        "figure = plt.figure(figsize=(8, 8))\n",
        "cols, rows = 3, 3\n",
        "for i in range(1, cols * rows + 1):\n",
        "    sample_idx = torch.randint(len(training_data), size=(1,)).item()\n",
        "    img, label = training_data[sample_idx]\n",
        "    figure.add_subplot(rows, cols, i)\n",
        "    plt.title(labels_map[label])\n",
        "    plt.axis(\"off\")\n",
        "    plt.imshow(img.squeeze(), cmap=\"gray\")\n",
        "plt.show()"
      ],
      "metadata": {
        "id": "1oiYIrcJmFi-",
        "outputId": "462f8d66-3215-496c-ffe4-6aa9db513be3",
        "colab": {
          "base_uri": "https://localhost:8080/",
          "height": 482
        }
      },
      "execution_count": 17,
      "outputs": [
        {
          "output_type": "display_data",
          "data": {
            "text/plain": [
              "<Figure size 576x576 with 9 Axes>"
            ],
            "image/png": "[encoded data removed]"
          },
          "metadata": {
            "needs_background": "light"
          }
        }
      ]
    },
    {
      "cell_type": "markdown",
      "source": [
        "**<h2> Creating Model<h2>**"
      ],
      "metadata": {
        "id": "BDrZXQvtm3BU"
      }
    },
    {
      "cell_type": "code",
      "source": [
        "# Get cpu or gpu device for training.\n",
        "device = \"cuda\" if torch.cuda.is_available() else \"mps\" if torch.backends.mps.is_available() else \"cpu\"\n",
        "print(f\"Using {device} device\")"
      ],
      "metadata": {
        "id": "9q-G_4MomoOj",
        "outputId": "c4eceee8-c928-46ab-f7b4-f6cc43a5b0f9",
        "colab": {
          "base_uri": "https://localhost:8080/"
        }
      },
      "execution_count": 22,
      "outputs": [
        {
          "output_type": "stream",
          "name": "stdout",
          "text": [
            "Using cpu device\n"
          ]
        }
      ]
    },
    {
      "cell_type": "code",
      "source": [],
      "metadata": {
        "id": "CAP9HRWonFra"
      },
      "execution_count": null,
      "outputs": []
    }
  ]
}