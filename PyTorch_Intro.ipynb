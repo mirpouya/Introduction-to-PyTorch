{
  "nbformat": 4,
  "nbformat_minor": 0,
  "metadata": {
    "colab": {
      "provenance": [],
      "authorship_tag": "ABX9TyNjfCVkOPt6FERS9p0YjQRi",
      "include_colab_link": true
    },
    "kernelspec": {
      "name": "python3",
      "display_name": "Python 3"
    },
    "language_info": {
      "name": "python"
    }
  },
  "cells": [
    {
      "cell_type": "markdown",
      "metadata": {
        "id": "view-in-github",
        "colab_type": "text"
      },
      "source": [
        "<a href=\"https://colab.research.google.com/github/mirpouya/Introduction-to-PyTorch/blob/main/PyTorch_Intro.ipynb\" target=\"_parent\"><img src=\"https://colab.research.google.com/assets/colab-badge.svg\" alt=\"Open In Colab\"/></a>"
      ]
    },
    {
      "cell_type": "markdown",
      "source": [
        "Tensors are multi dimensional matrices desiged to perform well on GPU"
      ],
      "metadata": {
        "id": "1OPnwLPlqgS0"
      }
    },
    {
      "cell_type": "code",
      "source": [
        "import torch"
      ],
      "metadata": {
        "id": "7sR8PlxIql41"
      },
      "execution_count": 1,
      "outputs": []
    },
    {
      "cell_type": "markdown",
      "source": [
        "**<h2> Torch Tensors </h2>**"
      ],
      "metadata": {
        "id": "9O1FktTwvPGz"
      }
    },
    {
      "cell_type": "code",
      "source": [
        "# 1-d tesnsor\n",
        "\n",
        "a = torch.tensor([1,2,3])\n",
        "a"
      ],
      "metadata": {
        "colab": {
          "base_uri": "https://localhost:8080/"
        },
        "id": "lG_MJ7XQvM-q",
        "outputId": "20d0c3c9-5da4-4ff7-f65a-b5d85e926579"
      },
      "execution_count": 2,
      "outputs": [
        {
          "output_type": "execute_result",
          "data": {
            "text/plain": [
              "tensor([1, 2, 3])"
            ]
          },
          "metadata": {},
          "execution_count": 2
        }
      ]
    },
    {
      "cell_type": "code",
      "source": [
        "# 2-d tensor\n",
        "\n",
        "b = torch.tensor([[1,2,3],[2,2,2],[3,3,3]])\n",
        "b"
      ],
      "metadata": {
        "colab": {
          "base_uri": "https://localhost:8080/"
        },
        "id": "_QnJrMB2wYJf",
        "outputId": "16135a7a-75f9-4679-b51e-b870ed037cc1"
      },
      "execution_count": 3,
      "outputs": [
        {
          "output_type": "execute_result",
          "data": {
            "text/plain": [
              "tensor([[1, 2, 3],\n",
              "        [2, 2, 2],\n",
              "        [3, 3, 3]])"
            ]
          },
          "metadata": {},
          "execution_count": 3
        }
      ]
    },
    {
      "cell_type": "code",
      "source": [
        "# size and shape\n",
        "\n",
        "print(f\"a shape is : {a.shape}\")\n",
        "print(f\"b shape is : {b.shape}\")\n",
        "print(f\"\\na size is : {a.size()}\")\n",
        "print(f\"b size is : {b.size()}\")"
      ],
      "metadata": {
        "colab": {
          "base_uri": "https://localhost:8080/"
        },
        "id": "x485Xp5KxLBo",
        "outputId": "5cb88ae1-a96f-4503-8153-14bf3c5d7c9f"
      },
      "execution_count": 4,
      "outputs": [
        {
          "output_type": "stream",
          "name": "stdout",
          "text": [
            "a shape is : torch.Size([3])\n",
            "b shape is : torch.Size([3, 3])\n",
            "\n",
            "a size is : torch.Size([3])\n",
            "b size is : torch.Size([3, 3])\n"
          ]
        }
      ]
    },
    {
      "cell_type": "code",
      "source": [
        "c = torch.tensor([1.1, 2.314, 4])\n",
        "c"
      ],
      "metadata": {
        "colab": {
          "base_uri": "https://localhost:8080/"
        },
        "id": "MzgoGCSvxaCh",
        "outputId": "6ba845c4-b304-45e7-8bae-767f2a418d0c"
      },
      "execution_count": 5,
      "outputs": [
        {
          "output_type": "execute_result",
          "data": {
            "text/plain": [
              "tensor([1.1000, 2.3140, 4.0000])"
            ]
          },
          "metadata": {},
          "execution_count": 5
        }
      ]
    },
    {
      "cell_type": "code",
      "source": [
        "# float tensor\n",
        "\n",
        "c = torch.FloatTensor([1.1, 2.314, 4])\n",
        "c"
      ],
      "metadata": {
        "colab": {
          "base_uri": "https://localhost:8080/"
        },
        "id": "e41qxuKjyFV3",
        "outputId": "57f0f090-6268-4ac6-bb1b-eb34a3b90526"
      },
      "execution_count": 6,
      "outputs": [
        {
          "output_type": "execute_result",
          "data": {
            "text/plain": [
              "tensor([1.1000, 2.3140, 4.0000])"
            ]
          },
          "metadata": {},
          "execution_count": 6
        }
      ]
    },
    {
      "cell_type": "code",
      "source": [
        "# mean of tensor\n",
        "\n",
        "c.mean()"
      ],
      "metadata": {
        "colab": {
          "base_uri": "https://localhost:8080/"
        },
        "id": "XLc7hKyryOSE",
        "outputId": "bf352789-a6a9-442d-a550-5ecc10031c07"
      },
      "execution_count": 7,
      "outputs": [
        {
          "output_type": "execute_result",
          "data": {
            "text/plain": [
              "tensor(2.4713)"
            ]
          },
          "metadata": {},
          "execution_count": 7
        }
      ]
    },
    {
      "cell_type": "code",
      "source": [
        "# not all types of tensors have mean() method\n",
        "b.mean()"
      ],
      "metadata": {
        "colab": {
          "base_uri": "https://localhost:8080/",
          "height": 182
        },
        "id": "HybGPUzfyZP-",
        "outputId": "a7d82667-1f45-4a53-9be0-63cba0828e4c"
      },
      "execution_count": 9,
      "outputs": [
        {
          "output_type": "error",
          "ename": "RuntimeError",
          "evalue": "ignored",
          "traceback": [
            "\u001b[0;31m---------------------------------------------------------------------------\u001b[0m",
            "\u001b[0;31mRuntimeError\u001b[0m                              Traceback (most recent call last)",
            "\u001b[0;32m<ipython-input-9-a308b3f03278>\u001b[0m in \u001b[0;36m<module>\u001b[0;34m\u001b[0m\n\u001b[1;32m      1\u001b[0m \u001b[0;31m# not all types of tensors have mean() method\u001b[0m\u001b[0;34m\u001b[0m\u001b[0;34m\u001b[0m\u001b[0m\n\u001b[0;32m----> 2\u001b[0;31m \u001b[0mb\u001b[0m\u001b[0;34m.\u001b[0m\u001b[0mmean\u001b[0m\u001b[0;34m(\u001b[0m\u001b[0;34m)\u001b[0m\u001b[0;34m\u001b[0m\u001b[0;34m\u001b[0m\u001b[0m\n\u001b[0m",
            "\u001b[0;31mRuntimeError\u001b[0m: mean(): could not infer output dtype. Input dtype must be either a floating point or complex dtype. Got: Long"
          ]
        }
      ]
    },
    {
      "cell_type": "code",
      "source": [
        "# std of tensor\n",
        "\n",
        "c.std()"
      ],
      "metadata": {
        "colab": {
          "base_uri": "https://localhost:8080/"
        },
        "id": "lQCoz577ybBW",
        "outputId": "4e296990-15d9-4d1f-ed31-6ac4de0bbe44"
      },
      "execution_count": 10,
      "outputs": [
        {
          "output_type": "execute_result",
          "data": {
            "text/plain": [
              "tensor(1.4564)"
            ]
          },
          "metadata": {},
          "execution_count": 10
        }
      ]
    },
    {
      "cell_type": "markdown",
      "source": [
        "Opposed to SkLearn, there's **NO** predefined Machine Learning model in PyTroch. <br> **NO** fit or predict functions <br>"
      ],
      "metadata": {
        "id": "Gy0O0hcvhleD"
      }
    },
    {
      "cell_type": "markdown",
      "source": [
        "**<h2> Linear Regression in PyTorch <h2>**"
      ],
      "metadata": {
        "id": "EyWv7wchiHrr"
      }
    },
    {
      "cell_type": "markdown",
      "source": [
        "<ol>\n",
        "  <li>How do we build the model?</li>\n",
        "  <li>How do we fit the model (Important part)</li>\n",
        "  <li>How do we make prediction?</li>\n",
        "</ol>"
      ],
      "metadata": {
        "id": "tnVilJEOiVi7"
      }
    },
    {
      "cell_type": "markdown",
      "source": [
        "The first step in training a model is to define a **LOSS** and optimize it\n",
        "Loss and optimizer"
      ],
      "metadata": {
        "id": "LDZ7O4Les-QI"
      }
    },
    {
      "cell_type": "code",
      "source": [
        "# imports\n",
        "\n",
        "import torch\n",
        "import torch.nn as nn\n",
        "\n",
        "import numpy as np\n",
        "import matplotlib.pyplot as plt"
      ],
      "metadata": {
        "id": "FtqSFg41ymwm"
      },
      "execution_count": 11,
      "outputs": []
    },
    {
      "cell_type": "code",
      "source": [
        "# generate synthetic data\n",
        "\n",
        "n = 20\n",
        "\n",
        "X = np.random.random(n)*10 -5\n",
        "\n",
        "# a line using X with some noise\n",
        "y = 0.5*X - 1 + np.random.randn(n)\n",
        "\n",
        "# visualizing \n",
        "plt.scatter(X, y)"
      ],
      "metadata": {
        "colab": {
          "base_uri": "https://localhost:8080/",
          "height": 282
        },
        "id": "L4LeqT6Swl6H",
        "outputId": "4d41f326-ff0b-4a5c-9c64-6dc1b62e1d5c"
      },
      "execution_count": 12,
      "outputs": [
        {
          "output_type": "execute_result",
          "data": {
            "text/plain": [
              "<matplotlib.collections.PathCollection at 0x7fe94c5f3040>"
            ]
          },
          "metadata": {},
          "execution_count": 12
        },
        {
          "output_type": "display_data",
          "data": {
            "text/plain": [
              "<Figure size 432x288 with 1 Axes>"
            ],
            "image/png": "[encoded data removed]"
          },
          "metadata": {
            "needs_background": "light"
          }
        }
      ]
    },
    {
      "cell_type": "markdown",
      "source": [
        "**<h3> Create Linear Regression Model </h3>**"
      ],
      "metadata": {
        "id": "Y9-iIQchxmAX"
      }
    },
    {
      "cell_type": "code",
      "source": [
        "# a linear neuron with one input and one output\n",
        "\n",
        "model = nn.Linear(1, 1)"
      ],
      "metadata": {
        "id": "cUGOwkN5xLQa"
      },
      "execution_count": 22,
      "outputs": []
    },
    {
      "cell_type": "markdown",
      "source": [
        "<h3> Loss and Optimizer </h3>"
      ],
      "metadata": {
        "id": "rNCaHxxUx0eH"
      }
    },
    {
      "cell_type": "code",
      "source": [
        "criterion = nn.MSELoss()  # calculate loss with Mean Squared Error criterion\n",
        "\n",
        "optimizer = torch.optim.SGD(model.parameters(), lr=0.1)  # stochastic gradient descent "
      ],
      "metadata": {
        "id": "PTTs2cNexxoj"
      },
      "execution_count": 23,
      "outputs": []
    },
    {
      "cell_type": "code",
      "source": [
        "# in ML problems shape of the data has to be : (no. samples, no. dimensions)\n",
        "\n",
        "X = X.reshape(n, 1)   # numpy array of X is of shape (n,)\n",
        "y = y.reshape(n, 1)"
      ],
      "metadata": {
        "id": "bnp0kgDHyO3S"
      },
      "execution_count": 24,
      "outputs": []
    },
    {
      "cell_type": "code",
      "source": [
        "\"\"\"\n",
        "one thing to note is, PyTorch is very sensitive about data types, for example it does not operate on float32 and float64 together.\n",
        "Therefore data types must be the same.\n",
        "Moreover, PyTorch does not work with np.arrays, all numpy arrays must be transformed to torch.tensors\n",
        "\"\"\"\n",
        "\n",
        "# transform np.array to torch.tensor + making all data types alike\n",
        "\n",
        "inputs = torch.from_numpy(X.astype(np.float32))\n",
        "targets = torch.from_numpy(y.astype(np.float32))"
      ],
      "metadata": {
        "id": "-NBjneU_zcPf"
      },
      "execution_count": 25,
      "outputs": []
    },
    {
      "cell_type": "code",
      "source": [
        "type(inputs)"
      ],
      "metadata": {
        "colab": {
          "base_uri": "https://localhost:8080/"
        },
        "id": "57VkRtHQ0YvB",
        "outputId": "b0b49b82-fdad-4d97-a117-858864aa04b1"
      },
      "execution_count": 26,
      "outputs": [
        {
          "output_type": "execute_result",
          "data": {
            "text/plain": [
              "torch.Tensor"
            ]
          },
          "metadata": {},
          "execution_count": 26
        }
      ]
    },
    {
      "cell_type": "markdown",
      "source": [
        "**<h3> Training the model </h3>**"
      ],
      "metadata": {
        "id": "TkT5x08X05ws"
      }
    },
    {
      "cell_type": "code",
      "source": [
        "n_epoch = 30\n",
        "losses = []    # save losses in a list to visualize them and observe the descending pattern\n",
        "\n",
        "for iter in range(n_epoch):\n",
        "  # PyTorch accumulates gradients, therefore in each epoch it is necessary to reset gradients\n",
        "  optimizer.zero_grad()\n",
        "\n",
        "  # forward pass\n",
        "  outputs = model(inputs)\n",
        "  loss = criterion(outputs, targets)\n",
        "\n",
        "  \"\"\"\n",
        "   saving loss in this iteration for plotting later\n",
        "   we want to get the loss from PyTorch land to python land\n",
        "   since matplotlib.pyplot is in numpy and pandas realm\n",
        "   item is a single tensor number not an array therefore we use .item() instead of np.array()\n",
        "   loss is a tensor\n",
        "  \"\"\"\n",
        "  losses.append(loss.item())\n",
        "\n",
        "  # backward to calculate grads and optimize weights\n",
        "  loss.backward()\n",
        "  # do one step of gradient descend\n",
        "  optimizer.step()  \n",
        "\n",
        "  print(f\"Epoch {iter+1}/{n_epoch}, Loss: {loss.item(): .4f}\")"
      ],
      "metadata": {
        "colab": {
          "base_uri": "https://localhost:8080/"
        },
        "id": "lV2CmqoW0bPP",
        "outputId": "086ea688-15d8-413c-9fb0-7220f8842c81"
      },
      "execution_count": 27,
      "outputs": [
        {
          "output_type": "stream",
          "name": "stdout",
          "text": [
            "Epoch 1/30, Loss:  20.8743\n",
            "Epoch 2/30, Loss:  10.3048\n",
            "Epoch 3/30, Loss:  5.4167\n",
            "Epoch 4/30, Loss:  3.1020\n",
            "Epoch 5/30, Loss:  1.9718\n",
            "Epoch 6/30, Loss:  1.3990\n",
            "Epoch 7/30, Loss:  1.0962\n",
            "Epoch 8/30, Loss:  0.9289\n",
            "Epoch 9/30, Loss:  0.8325\n",
            "Epoch 10/30, Loss:  0.7748\n",
            "Epoch 11/30, Loss:  0.7392\n",
            "Epoch 12/30, Loss:  0.7168\n",
            "Epoch 13/30, Loss:  0.7024\n",
            "Epoch 14/30, Loss:  0.6930\n",
            "Epoch 15/30, Loss:  0.6869\n",
            "Epoch 16/30, Loss:  0.6828\n",
            "Epoch 17/30, Loss:  0.6802\n",
            "Epoch 18/30, Loss:  0.6784\n",
            "Epoch 19/30, Loss:  0.6772\n",
            "Epoch 20/30, Loss:  0.6764\n",
            "Epoch 21/30, Loss:  0.6759\n",
            "Epoch 22/30, Loss:  0.6756\n",
            "Epoch 23/30, Loss:  0.6753\n",
            "Epoch 24/30, Loss:  0.6752\n",
            "Epoch 25/30, Loss:  0.6751\n",
            "Epoch 26/30, Loss:  0.6750\n",
            "Epoch 27/30, Loss:  0.6749\n",
            "Epoch 28/30, Loss:  0.6749\n",
            "Epoch 29/30, Loss:  0.6749\n",
            "Epoch 30/30, Loss:  0.6749\n"
          ]
        }
      ]
    },
    {
      "cell_type": "code",
      "source": [
        "# plot losses\n",
        "plt.plot(losses)"
      ],
      "metadata": {
        "colab": {
          "base_uri": "https://localhost:8080/",
          "height": 282
        },
        "id": "Se2fXIDD1oSU",
        "outputId": "ea449380-74cb-4714-9a04-e9e025ebc722"
      },
      "execution_count": 28,
      "outputs": [
        {
          "output_type": "execute_result",
          "data": {
            "text/plain": [
              "[<matplotlib.lines.Line2D at 0x7fe949db6460>]"
            ]
          },
          "metadata": {},
          "execution_count": 28
        },
        {
          "output_type": "display_data",
          "data": {
            "text/plain": [
              "<Figure size 432x288 with 1 Axes>"
            ],
            "image/png": "[encoded data removed]"
          },
          "metadata": {
            "needs_background": "light"
          }
        }
      ]
    },
    {
      "cell_type": "code",
      "source": [],
      "metadata": {
        "id": "JcRiuNIk8NWh"
      },
      "execution_count": null,
      "outputs": []
    }
  ]
}